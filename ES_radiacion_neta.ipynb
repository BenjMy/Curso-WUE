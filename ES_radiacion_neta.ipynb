{
 "cells": [
  {
   "cell_type": "markdown",
   "metadata": {},
   "source": [
    "# Resumen\n",
    "Este cuaderno digital interactivo tiene como objetivo evaluar las relaciones y procesos básicos entre la radiación incidente.\n",
    "\n",
    "Para ello haremos uso de modelos de simulación, en particular de modelos de transferencia radiativa tanto a nivel de hoja individual como a nivel de dosel vegetal."
   ]
  },
  {
   "cell_type": "markdown",
   "metadata": {},
   "source": [
    "# Instrucciones\n",
    "Lee con detenimiento todo el texto, y sigue sus instrucciones.\n",
    "\n",
    "Una vez leida cada sección de texto ejecuta la celda de código siguiente (marcada como `In []`) presionando el icono de `Run`/`Ejecutar` o presionando en el teclado ALT + ENTER. Aparecerá una interfaz gráfica con la que poder realizar las tareas asignadas.\n",
    "\n",
    "Como ejemplo ejectuta la siguiente celda para importar todas  las librerías necesarias para el correcto funcionamiento del cuaderno. Una vez ejecutada debería aparecer un mensaje de agradecimiento."
   ]
  },
  {
   "cell_type": "code",
   "execution_count": null,
   "metadata": {},
   "outputs": [],
   "source": [
    "%matplotlib inline\n",
    "from ipywidgets import interact, interactive, fixed\n",
    "from IPython.display import display\n",
    "from functions import radiation_and_available_energy as fn\n",
    "import numpy as np"
   ]
  },
  {
   "cell_type": "markdown",
   "metadata": {},
   "source": [
    "# Ecuación básica\n",
    "La evapotranspiración es básicamente un intercambio de energía y vapor de agua entre la superficie y la atmósfera. Es por ello que una variable fundamental para su cálculo es la estimación de la energía disponible de la superficie. \n",
    "\n",
    "![balance energético de la Tierra](./input/figures/radiation_balance.png \"Balance energético de la Tierra\").\n",
    "\n",
    "Seǵun el estado hídrico de la superficie, esta energía disponible es utilizada tanto en evaporar el agua (la ET o $\\lambda E$) como en aumentar su temperatura ($H$).\n",
    "\n",
    "$$\\lambda E + H = R_n - G$$\n",
    "\n",
    "donde $G$ es el calor transmitido por conducción y almacenado en el suelo y $R_n$ es la radiación neta\n",
    "\n",
    "La radiación neta ($R_n$) puede calcularse como:\n",
    "\n",
    "\\begin{equation}\n",
    "R_n = S\\downarrow \\left(1 - \\alpha\\right) +  \\epsilon \\left(L\\downarrow - \\sigma LST^4\\right)\n",
    "\\end{equation}\n",
    "\n",
    "donde $S\\downarrow$ y $L\\downarrow$ son las radiaciones entrantes de onda corta y larga respectivamente y pueden obtenerse a través de estaciones o modelos meteorológicos, $\\alpha$ y $\\epsilon$ son el albedo y la emisividad del superficie, $LST$ es la temperatura de superficie, y $\\sigma\\approx5.67E-8$ (W/m²K⁴) es la constante de Boltzman. $\\alpha$, $\\epsilon$ y $LST$ pueden estimarse con mayor o menor grado de incertidumbre mediante datos y productos de teledetección.\n",
    "\n",
    "Teniendo en cuenta la mayor magnitud de la radiación de onda corta ($S$) con respecto a la onda larga ($L$), en este cuaderno nos centraremos sobre todo a las propiedades del dosel vegetal que influyen en el albedo y en la fracción de radiación fotosintéticamente activa absorbida por la vegetación.\n",
    "\n",
    "Por otro lado $G$ suele ser de menor magnitud, tendiendo a 0 cuando trabajamos en escalas diarias o más largas, o estimándose como una porcentaje de la radiación neta ($G \\approx 0.1 R_n$ para supeficies vegetales densas; $G \\approx 0.4 R_n$ para suelos desnudos) para escalas horarias o instantáneas."
   ]
  },
  {
   "cell_type": "markdown",
   "metadata": {},
   "source": [
    "# La ley de Beer-Lambert\n",
    "La ley de Beer-Lambert es la ley física fundamental que permite describir e interpretar la mayoría de los procesos y fenómenos radiativos que nos interesan. Cuando un haz de luz atraviesa un medio que contiene un elemento absorbente de radiación, esta luz se atenúa de manera proporcional a la concentración del elemento ($\\kappa$) y la longitud del camino que recorre la luz ($\\ell$). La transmisión de luz o de radiación electromagnética:\n",
    "\n",
    "\\begin{equation}\n",
    "T = e^{-\\kappa\\ell}\n",
    "\\end{equation}\n",
    "\n",
    "En el siguiente gráfico interactivo podrás ver el efecto de esta ley. \n",
    "\n",
    "Puedes modificar los valores de absorción $\\kappa$, que aumenta cuanta mayor sea la concentración del material abosrbente en el medio. El gráfico mostrará el porcentaje de luz que se transmite a través del medio conforme su recorrido se va haciendo más largo:"
   ]
  },
  {
   "cell_type": "code",
   "execution_count": null,
   "metadata": {},
   "outputs": [],
   "source": [
    "w_lambert = interactive(fn.beer_lambert_law, kappa=fn.w_kappa, length=fixed(np.linspace(0, 10, 50)))\n",
    "display(w_lambert)"
   ]
  },
  {
   "cell_type": "markdown",
   "metadata": {},
   "source": [
    "Esta ley permite explicar por ejemplo la atenuación de la radiación solar desde la estratosfera hasta la superficie de la tierra: El aire está formado por gases y partículas que abosrben radiación (es más, la mayoría absorben sólo radiación en ciertas longides de onda, como es el ozono que abosrbe rayos UV). Cuanto más alto esté el sol en el cielo, el recorrido a través de la atmósfera es menor y por tanto la radiación solar que nos llega a la superficie será mayor.\n",
    "\n",
    "![longitud atmosférica del sol](./input/figures/airmass.png \"longitud atmosférica del sol\")."
   ]
  },
  {
   "cell_type": "markdown",
   "metadata": {},
   "source": [
    "## Aplicación a la Fracción de Radiación Interceptada (fIPAR)\n",
    "La ley de Beer-Lambert nos permite también analizar la interceptación (y absorción) de radiación del dosel vegetal y equivalentemente la radiacion que finalmente llega al suelo.\n",
    "\n",
    "Asumiendo que un dosel vegetal está formado en su mayoría por hojas, y que éstas interceptan y absorben radiación (sobre todo radiación fotosintéticamente activa, PAR), podemos ver cuánta radiación es inteceptada según la cantidad de hojas o la densidad foliar del dosel. Ésta suele definirse mediante el Índice de Área Foliar (LAI), la superficie de hojas por unidad de superficie de suelo. Cuanto mayor sea el LAI más probabilidades hay de que los rayos solares sean interceptados por la vegetación, y por tanto lleguen menos al suelo. De igual modo, el ángulo de elevación solar $\\beta$, o su complemntario el ángulo zenital solar (SZA), juega también un papel importante, ya que cuanto más bajo esté el sol máyor camino tendrá que recorrer la luz a través del dosel y mayor será su atenuación. \n",
    "\n",
    "Como las hojas son elementos sólidos con un tamaño finito (al contrario que los gases atmosféricos), su orientación con respecto a la vertical también juega un rol importante, por lo que la ley de Beer-Lambert ha de modificarse para reflejar este fenómeno. En el siguiente gráfico puedes experimentar con este efecto. Puedes variar tanto la cantidad de hojas (en términos de LAI) como la orientación dominante de las hojas, desde hojas predominantemente verticales ($\\approx$90º) a hojas predominantemente horizontales ($\\approx$0º)."
   ]
  },
  {
   "cell_type": "code",
   "execution_count": null,
   "metadata": {},
   "outputs": [],
   "source": [
    "w_fipar = interactive(fn.plot_fipar, lai=fn.w_lai, leaf_angle=fn.w_leaf_angle)\n",
    "display(w_fipar)"
   ]
  },
  {
   "cell_type": "markdown",
   "metadata": {},
   "source": [
    "Observa en el gráfico cómo las mayores atenuaciones de la luz (o lo que es lo mismo mayor fracción interceptada de radiación) ocurren siempre con ángulos de elevación solar menores, pero que esa tasa de atenuación depende en mayor medido de la cantidad de hojas y de su disposición angular.\n",
    "\n",
    "El LAI depende en gran medida del desarrollo fenológico y del aumento de biomasa de la planta, mientras que su disposición angular suele ser específica de la especie, habiendo plantas con una disposición más erectófila (hojas predominantemente verticales) como pueden ser algunas gramíneas y plantas con una disposición más planófila (hojas predominantemente horizontales. Generalmente podemos asumir que especies erectófilas están más adaptadas a sobervivir en climas con altos niveles de insolación, con el fin de evitar condiciones extremas de irradiancia solar en las horas centrales del día, mientras que plantas planófilas tienen a desarrollarse en condiciones más de penumbra o de poca exposición, de manera que intercepten el máximo posible de radiación durante todo el día. \n",
    "\n",
    "Entre esos dos extremos la mayoría de las plantas presentan una diposición angular de las hojas más o menos aleatoria. Para estos casos el cálculo de la interceptación de radiación se simplifica como:\n",
    "\n",
    "\\begin{equation}\n",
    "fIPAR = 1 - \\exp \\left(\\frac{-0.5 LAI}{\\cos\\theta_s}\\right)\n",
    "\\end{equation}\n",
    "siendo $\\theta_s$ el ángulo zenital solar.\n",
    "\n",
    "> Si tienes interés en cómo realizar los cálculos para cualquier otro tipo de disposición angular de las hojas y tienes conocimientos de programación, picha [aquí](https://github.com/hectornieto/pyTSEB/blob/6dd5dffff08bc1f08edb3e89b4a79879e348146b/pyTSEB/TSEB.py#L1587)."
   ]
  },
  {
   "cell_type": "markdown",
   "metadata": {},
   "source": [
    "# El albedo\n",
    "Como hemos comentado anteriormente el albedo ($\\alpha$) es la variable fundamental que determina la cantidad de radiación solar que es absorbida por la superficie. Se definie como la proporción de radiación de onda corta que es reflejada por la superficie. La radiación neta de onda corta es un balance entre la radación de onda corta incidente ($S\\downarrow$) y la saliente o reflejada ($S\\uparrow = \\alpha S\\downarrow$)\n",
    "\n",
    "Las propiedades espectrales de la superficie terrestre son claves en la determinación de su albedo, por ejemplo la nieve tiene valores muy altos de albedo ($\\approx 0.9$), y por tanto reflejan la mayoría de la radiación solar. Los océanos por el contrario tienen valores muy bajos de albedo ($\\approx0.05$) por lo que aborben la mayoría de la energía solar que les llega. \n",
    "\n",
    "Las hojas, debido a la actividad fotosinténtica absorben una gran proporción luz por parte de las clorofilas y otros pigmentos, es por ello que también presentan valores relativamente bajos de albedo ($\\approx0.15$). Por otro lado, el suelo según su composición mineralógica puede tener valores de albedo entre 0.20 y 0.40 o incluso más. Por tanto el albedo de un dosel vegetal dependerá sobre todo de la concentración de clorofilas de sus hojas pero también de la cantidad o densidad foliar del dosel, luego en menor medida del albedo del suelo, pero sólo en situaciones de escasa vegetación o estados fenológicos iniciales.\n",
    "\n",
    "> Profundizaremos más sobre este tema en la práctica sobre el comportamiento espectral de la vegetación.\n",
    "\n",
    "## Anisotropía de la vegetación\n",
    "La mayoría de las superficies terrestres presentan cierta anisotropía a la hora de reflejar la radiación. Es decir, reflejan más radiación en unas direcciones que en otras. El caso más extremos son las superficies especulares (espejos y algunas láminas de agua y hielo) que reflejan la mayoría de la radiación en la dirección contraria a la posición del sol. El caso contrario son las superficies lambertianes, las  cuales dan la aparencia de reflejar por igual en todas las direcciones.\n",
    "\n",
    "![Reflexión Lambertiana y especular](./input/figures/lambertian_and_specular_reflection.png \"Reflexión Lambertiana y especular\").\n",
    "\n",
    "> La madera sin pulir es un ejemplo superficie lambertiana, mientras que la madera pulida y barnizada presenta por el contrario comportamientos especulares. \n",
    "\n",
    "La vegetación, al estar formada prinpicalmente de un cojunto más o menos agrupado de hojas, no se libra de este comportamieno anisotrópico, que provoca que según las geometría de iluminación, es decir según al posición del sol, refleja de manera distinta según la dirección, e incluso pueda variar el albedo global.\n",
    "\n",
    "En el siguiente gráfico podrás ver este efecto. Se trata de un gráfico polar que simula la reflectividad de una superficie vegetal en todas direcciones, tanto para la región del PAR como para todo el espectro solar. Los anillos concéntricos representan los distintos ángulos cenitales con respecto al nadir (0 para el punto central del gráfico y 90º para el anillo más externo). Las radiales del gráfico polar representa la dirección azimultal (0º hacia el Norte, 90º hacia el Este, 180º hacia el Sur y 270º hacia el Oeste). Tambien se muestra el valor integrado de la reflectividad, que reulta en el albedo.\n",
    "\n",
    "La posición del sol está representada en el gráfico por una estrella. Por defecto al ejecutar el gráfico el sol está situado al sur con un ángulo cenital de 37 grados, lo que implica un día tipico de verano en el hemisferio Norte al mediodía."
   ]
  },
  {
   "cell_type": "code",
   "execution_count": null,
   "metadata": {},
   "outputs": [],
   "source": [
    "w_bidirectional = interactive(fn.bidirectional_reflectance,\n",
    "                              cab=fn.w_cab, lai=fn.w_lai, leaf_angle=fn.w_leaf_angle, \n",
    "                              sza=fn.w_sza, saa=fn.w_saa, skyl=fn.w_skyl)\n",
    "display(w_bidirectional)                             "
   ]
  },
  {
   "cell_type": "markdown",
   "metadata": {},
   "source": [
    "* Modifica sustancialmente la concentración de clorofila. ¿Cómo varía la reflectividad y el albedo tanto en el PAR como en el espectro completo solar?\n",
    "* Modifica la posición del sol. Por un lado podrás ver que siempre hay un pico de reflectividad alrededor de la posición solar. Esto se trata del la zona de la vegetación que está más illuminada por el sol. Por el contrario, en la dirección opuesta se ecuentran los valores de reflectividad menores, al estar las hojas más ocluidas de los rayos de sol. Además los valores de albedo también varían según la posición del sol, es decir, según la hora del día.\n",
    "* Esta variación es más significativa cuanta menor sea la proporción de radiación difusa. Aumenta la proporción de radación difusa, simulando días con mayor cobertura nubosa, verás que la posición del sol, como es de esperar ya no es relevante."
   ]
  },
  {
   "cell_type": "markdown",
   "metadata": {},
   "source": [
    "# Radiación neta de onda corta en un cultivo\n",
    "Teniendo en cuenta lo visto hasta hora, el LAI, la distribución angular de las hojas la concentración de colorofila son las variables fundamentales que determinan la abosorción de radiación del cultivo. En el siguiente gráfico podemos ver la evolución de la radiación solar neta de un cultivo herbáceo ($C_{a+b}\\approx40\\mu g/cm^2$} a lo largo un día típico de verano a latitudes intermedias (40ºN/S). Este gráfico asume que las condiciones de nubosidad permanecen constantes durante el día, con una proporción de radiación difusa fija, y por tanto la evolución de radiación incidente presenta una curva sinusoidal. Si las condiciones de nubosidad fueran cambiantes la curva presentaría una forma más aserrada, formando valles y crestas en los momentos en los que el sol estuviese visible u oculto tas las nubes.\n",
    "\n",
    "El gráfico muestra tanto la radiación neta de onda corta de la superficie (curva de color negro, $S_n$) como el reparto de esa radiación entre la radiación absorbida por el cultivo (en verde, $S_{n,C}$) como el suelo (en amarillo, $S_{n,S}$)\n",
    "\n",
    "> $S_{n,C}+S_{n,S}=S_n$"
   ]
  },
  {
   "cell_type": "code",
   "execution_count": null,
   "metadata": {},
   "outputs": [],
   "source": [
    "w_sn = interactive(fn.plot_net_solar_radiation,\n",
    "                   local_lai=fn.w_lai, leaf_angle=fn.w_leaf_angle, h_c=fixed(1), f_c=fixed(1),\n",
    "                   row_distance=fixed(1), row_direction=fixed(0), sdn_day=fn.w_sdn, skyl=fn.w_skyl, \n",
    "                   fvis=fixed(0.55))\n",
    "display(w_sn)"
   ]
  },
  {
   "cell_type": "markdown",
   "metadata": {},
   "source": [
    "Observa que al forzar la clorofila constante, las variaciones de radiación neta son apenas perceptibles con variaciones de LAI. Sin embargo el reparto de radiación entre el suelo y la vegetación varían considerablemente con el LAI. Esto tiene implicaciones importantes ya que el LAI influye en el reparto de energía entre suelo y vegetación y por lo tanto en la capacidad de la superficie de evaporar el agua del suelo y/o la capacidad transpirativa y fotosintética del cultivo.\n",
    "\n",
    "Mantén valores relativavente bajos de LAI (<1.5) y observa de nuevo el efecto de la distribución angular de las hojas en el dosel. Hojas más verticales (`Leaf Angle`\\approx$90) provocarían una disminución de la radiación absorbida por la vegetación en las horas centrales del día, cuando el sol está más elevado y la irradiancia solar es mayor. Observa que este efecto sin embargo ya no ocurre cuando hay una mayor proporción de radiacion difusa. En ese caso casi toda la radiaicón viene indistintamente de todas direcciones y por tanto la distribución angular de la hoja no juega un papel importante."
   ]
  },
  {
   "cell_type": "markdown",
   "metadata": {},
   "source": [
    "## Radiación en cultivos en hilera\n",
    "Hasta ahora todas las simulaciones y procesos que hemos realizado asumen un dosel vegetal o un cultivo horizontalmente homogéneo, o al menos suficientemente denso. Sin embargo, ¿qué ocurre cuando trabajamos con cultivos en hilera, como pueden ser viñedos o explotaciones intensivas de frutales, entre otros?\n",
    "\n",
    "La cruda realidad es que todo restula algo más complejo ya que por un lado el dosel vegetal está agrupado en torno a un tronco o tallo, dejando partes del suelo completamente expuestas. Por otro lado, la dimensión y orientación de la hilera también afecta a cómo la luz es interceptada y transmitida entre el cultivo y el suelo.\n",
    "\n",
    "Para evaluar esta situación es necesario considerar parámetros estructurales del cultivo adicionales:\n",
    "\n",
    "* La altura del dosel en metros, ya que doseles más altos generarán sombras en el suelo más alargadas entre las hileras.\n",
    "* El porcentaje relativo de ocupación del mismo con respecto a la separación entre hileras, que indica la anchura del dosel con respecto al espacio entre hileras.\n",
    "* La orientación de las hileras con respecto al Norte. 0 indica que la hilera está orientada de Sur a Norte, valores negativos indica que la hilera va de NW as SW, valores positivos del NE and SW, con -90 y/o 90 indicando orientación E-W."
   ]
  },
  {
   "cell_type": "code",
   "execution_count": null,
   "metadata": {},
   "outputs": [],
   "source": [
    "w_sn = interactive(fn.plot_net_solar_radiation,\n",
    "                   local_lai=fn.w_lai, leaf_angle=fn.w_leaf_angle, h_c=fn.w_hc, f_c=fn.w_fc,\n",
    "                   row_distance=fn.w_interrow, row_direction=fn.w_psi, sdn_day=fn.w_sdn, skyl=fn.w_skyl, \n",
    "                   fvis=fixed(0.55))\n",
    "display(w_sn)"
   ]
  },
  {
   "cell_type": "markdown",
   "metadata": {},
   "source": [
    "> Esta gráfica y la anterior están sincronizadas, para facilitar la comparación entre ambas. Es decir, si modificas en alguna de ellas algún parámetro común, como el LAI, automáticamente ambas gráficas se actualizan.\n",
    "\n",
    "Teniendo en cuenta que el sol sale hacia el Este, alcanza su cénit al Norte o al Sur seǵun el hemisferio, y se pone hacia el Oeste, observa el efecto que tiene cambiar la orientación de las hileras de N-S a E-W. El mínimo de radiacion interceptada por el cultivo es cuando el sol está en paralalo a la dirección de la hilera.\n",
    "\n",
    "Observa que cuanta mayor sea el porcentaje de ocupación del cultivo con respecto al ancho de la hilera, el cultivo se comporta de manera más similar a un cultivo homogéneo (sección previa).\n",
    "\n",
    "Hay un efecto combinado entre la altura del cultivo y la separación entre hileras. Hileras estrechas en cultivos bajos tienen un efecto similar que hileras anchas con vegetación alta.\n",
    "\n",
    "Finalmente, al igual de lo que hemos estado observando en los gráficos anteriores, estos efectos se disipan cuanta mayor sea la radiación difusa, es decir cuanto mayor sea la nubosidad del cielo."
   ]
  },
  {
   "cell_type": "markdown",
   "metadata": {},
   "source": [
    "## La radiación fotosintética absorbida\n",
    "Finalmente, esto también tiene consecuencas en la radiación fotosintéticamente activa (PAR) absorbida por la vegetación, la cual es un parámetro fundamental a la hora de calcular la productividad primaria bruta de la vegetación. \n",
    "\n",
    "En el siguente gráfico puedes jugar con todos los parámetros descritos y ver cómo el PAR es interceptado y absorbida por la vegetación. Tan sólo hay un parámetro adicional que representa la absortividad de la hoja en el PAR, estrechamente ligada a la concentración de clorofila de la hoja como veremos en unos días en la práctica sobre el [espectro y las propiedades biofisicas de la hoja](./ES_espectro_vegetacion.ipynb)."
   ]
  },
  {
   "cell_type": "code",
   "execution_count": null,
   "metadata": {},
   "outputs": [],
   "source": [
    "w_par = interactive(fn.plot_apar,\n",
    "                    local_lai=fn.w_lai, leaf_angle=fn.w_leaf_angle, leaf_absorbance=fn.w_leaf_abs,\n",
    "                    h_c=fn.w_hc, f_c=fn.w_fc, row_distance=fn.w_interrow, row_direction=fn.w_psi, \n",
    "                    sdn_day=fn.w_sdn, soil_albedo=fixed(0.15), skyl=fn.w_skyl, fvis=fixed(0.55))\n",
    "display(w_par)"
   ]
  },
  {
   "cell_type": "markdown",
   "metadata": {},
   "source": [
    "# La radiación neta de onda larga\n",
    "La radiación de onda larga corresponde a la emisión y absorción de energía proveniente del calor propio de la atmósfera y la superficie. La emisión de energía de un cuerpo depende de su temperatura interna y de la emisividad del mismo. Por tanto, en este caso la radiación neta de onda larga viene determinada por la emisividad y temperatura atmosférica y la emisividad y temperatura de la superficie.\n",
    "\n",
    "Este gráfico muestra cómo varia la radiación neta de onda larga en función de las condiciones atmosféricas (temperatura y humedad relativa) y de la temperatura de la superficie y su emisividad. Ya que la temperatura de superficie depende en cierto grado también de las condiciones atmosféricas, asi como del estado hídrico del cultivo, vamos a mostrar cómo cambia $L_n$ a distintos niveles de estrés hídrico, desde un cultivo bien hidratado en el que su temperatura de superficie está en torno a la temperatura del aire, hasta un cultivo estresado, donde su temperatura está significativamente varios grados por encima de la temperatura del aire.\n",
    "\n",
    "> En estas prácticas trabajaremos con el sistema internacional de medidas para las temperaturas (Kelvin). Para convertin Kelvin a grados Celsius tan sólo tienes que restar 273 (273 K = 0ºC y 293K = 20ºC)"
   ]
  },
  {
   "cell_type": "code",
   "execution_count": null,
   "metadata": {},
   "outputs": [],
   "source": [
    "w_ln = interactive(fn.plot_longwave_radiation, t_air=fn.w_tair, hr=fn.w_hr, delta_t=fixed(np.linspace(-1, 20, 50)),\n",
    "                   emiss=fn.w_emiss)\n",
    "display(w_ln)"
   ]
  },
  {
   "cell_type": "markdown",
   "metadata": {},
   "source": [
    "Podrás observar que la radiación neta de onda larga suele resultar en valores significativamente menores que la radiación neta de onda corta. Sólo en casos de muy altas temperaturas y mucha humedad la radiación neta de onda larga excede los 400 W/m².\n",
    "\n",
    "Además la radiación neta disminuye según aumenta el nivel de estrés del cultivo (es decir a mayores diferencias entre su temperatura y la temperatura del aire). Esto es uno de los dos mecanismos que permiten al cultivo regular su exceso de calor. Al aumentar su temperatura emite más energía radiante, lo que produce un efecto de retroalimentación para liberar el exceso de calor.\n",
    "\n",
    "> La otra estrategia está relacionada con el flujo de calor sensible y la disipación de exceso de energía por convección. Este fenómeno lo veremos en la práctica de mañana sobre el [calor sensible y la turbulencia](./ES_turbulencia_y_calor_sensible.ipynb)\n",
    "\n",
    "Finalmente la emisividad de la superficie, la cual suele estar en torno a valores de 0.95 para zonas áridas y con escasa vegetación a valores de 0.99 para vegetación densa, tiene un efecto menor en el cálculo de la radiación neta. Por lo que su estimación no requiere de gran precisión."
   ]
  },
  {
   "cell_type": "markdown",
   "metadata": {},
   "source": [
    "# Conclusiones\n",
    "En esta práctica hemos visto que la radiación neta de onda corta depende principalmente de:\n",
    "1. la radiacíón incidente, la cual puede obtenerse a partir de estaciones o modelos meteorológicos\n",
    "2. El albedo de la superficie\n",
    "\n",
    "Por otro lado el albedo depende principalmente de\n",
    "1. Las propiedades espectrales de la vegetación, principalmente la clorofila como principal pigmento absorbente de radiación PAR.\n",
    "2. Las propiedades estructurales de la vegetación, principalmente el LAI pero también de la distribución angular de la hoja. Además en cultivos en hilera la estructura de la hilera puede resultar determinante en el reparto de radiaicón entre suelo y vegetación.\n",
    "\n",
    "La radiación neta de onda larga tiene un mayor peso en la radiación neta global, y además su modelización suele resultar más sencilla, necisitando\n",
    "1. la radiacíón incidente de onda larga, la cual puede obtenerse a partir de estaciones o modelos meteorológicos\n",
    "2. La emisividad y temperatura de superficie, que pueden otenerse mediante datos de teledetección.\n",
    "\n",
    "Los análisis realizados te permitirán además poder evaluar el coste/beneficio de usar modelos más o menos complejos a la hora de estimar las radiación neta y el reparto de energía en cultivos complejos.\n",
    "\n",
    "En prácticas futuras veremos cómo estimar el albedo y las otras propiedades biofísicas de la vegetación a partir de datos de teledetección. "
   ]
  }
 ],
 "metadata": {
  "celltoolbar": "Edit Metadata",
  "kernelspec": {
   "display_name": "Python 3 (ipykernel)",
   "language": "python",
   "name": "python3"
  },
  "language_info": {
   "codemirror_mode": {
    "name": "ipython",
    "version": 3
   },
   "file_extension": ".py",
   "mimetype": "text/x-python",
   "name": "python",
   "nbconvert_exporter": "python",
   "pygments_lexer": "ipython3",
   "version": "3.9.7"
  }
 },
 "nbformat": 4,
 "nbformat_minor": 1
}
