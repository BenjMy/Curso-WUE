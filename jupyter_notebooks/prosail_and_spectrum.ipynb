{
 "cells": [
  {
   "cell_type": "markdown",
   "metadata": {},
   "source": [
    "# Resumen\n",
    "Este cuaderno digital interactivo tiene como objetivo demostrar las relaciones entre las propiedades fisico-químicas de la vegetación y el espectro solar.\n",
    "\n",
    "Para ello haremos uso de modelos de simulación, en particular de modelos de transferencia radiativa tanto a nivel de hoja individual como a nivel de dosel vegetal."
   ]
  },
  {
   "cell_type": "markdown",
   "metadata": {},
   "source": [
    "# Instrucciones\n",
    "Lee con detenimiento todo el texto, y sigue sus instrucciones.\n",
    "\n",
    "Una vez leida cada sección de texto ejecuta la celda de código siguiente (marcada como `In []`) presionando el icono de `Run`/`Ejecutar` o presionando en el teclado ALT + ENTER. Aparecerá una interfaz gráfica con la que poder realizar las tareas asignadas.\n",
    "\n",
    "Como ejemplo ejectuta la siguiente celda para importar todas  las librerías necesarias para el correcto funcionamiento del cuaderno. Una vez ejecutada debería aparecer un mensaje de agradecimiento."
   ]
  },
  {
   "cell_type": "code",
   "execution_count": 1,
   "metadata": {
    "scrolled": true
   },
   "outputs": [
    {
     "name": "stdout",
     "output_type": "stream",
     "text": [
      "Gracias! librerías correctamente importadas\n",
      "Puedes continuar con las siguientes tareas\n"
     ]
    }
   ],
   "source": [
    "from ipywidgets import FloatSlider, FloatRangeSlider, Dropdown, interact, fixed\n",
    "from functions.prosail_and_spectra import *"
   ]
  },
  {
   "cell_type": "markdown",
   "metadata": {},
   "source": [
    "# Espectro de una hoja\n",
    "Las propiedades espectrales de una hoja (tanto su transmisividad, su reflectividad y su absortividad) dependen de su concentración de pigmentos, de su contenido de agua, su peso específico y la estructura interna de sus tejidos. \n",
    "\n",
    "Vamos a usar el modelo ProspectD, el cual es una simplificación de la realidad en la que simula el espectro mediante la concentración de clorofilas (`Cab`), carotenoides (`Car`), antocianinos (`Ant`), así como el peso de agua y por unidad de supeficie (`Cw`) y el peso del resto de la materia seca (`Cm`) que engloba las celulosas, ligninas (responsables principales de la biomasa foliar) y otros componentes proteicos. También incluye un parámetro semi-empírico que representa otros pigmentos responsables del color de las hojas senescentes y enfermas. Además con el fin de simular hojas con distintas estructuras celulares incluye un último parámetro (`N_leaf`) que emula las distitas capas y tejidos celulares de la hoja.\n",
    "\n",
    "Ejecuta la siguiente célula y verás un espectro típico de la hoja. El gráfico muestra tanto la reflectividad (en el eje y) como la transmisividad (en el eje secundario y, con valores invertidos) y la absortividad (como el espacio entre las dos curvas de reflectividad y transmisividad) $\\rho + \\tau + \\alpha = 1$.\n",
    "\n",
    "Presta atención a cómo y en qué regiones cambia el espectro según el parámetro que modifiques.\n",
    "* Haz variar la clorofila. \n",
    "* Haz variar el contenido de agua\n",
    "* Haz variar la materia seca\n",
    "* Haz variar los pigmentos marrones desde un valor de 0 (hoja sana) a valores mayores (hoja enferma o seca)"
   ]
  },
  {
   "cell_type": "code",
   "execution_count": 2,
   "metadata": {},
   "outputs": [
    {
     "data": {
      "application/vnd.jupyter.widget-view+json": {
       "model_id": "d9c7ad90efa549dea837ac2289d58e69",
       "version_major": 2,
       "version_minor": 0
      },
      "text/plain": [
       "interactive(children=(FloatSlider(value=1.5, description='N:', max=4.0, min=1.0), FloatSlider(value=40.0, desc…"
      ]
     },
     "metadata": {},
     "output_type": "display_data"
    }
   ],
   "source": [
    "interact(update_prospect_spectrum, \n",
    "         N_leaf=FloatSlider(value=1.5, min=1, max=4, step=0.1, description='N:'),\n",
    "         Cab=FloatSlider(value=40, min=0, max=110, step=1, description='Cab ($\\mu$g/cm²):'),\n",
    "         Car=FloatSlider(value=10, min=0, max=40, step=1, description='Car ($\\mu$g/cm²):'),\n",
    "         Ant=FloatSlider(value=1, min=0, max=40, step=1, description='Ant ($\\mu$g/cm²):'),\n",
    "         Cbrown=FloatSlider(value=0, min=0, max=3, step=0.1, description='Cbrown (-):'),\n",
    "         Cw=FloatSlider(value=0.0053, min=0, max=0.05, step=0.001, description='Cw (g/cm²):'),\n",
    "         Cm=FloatSlider(value=0.0114, min=0.001, max=0.04, step=0.001, description='Cm (g/cm²):')\n",
    "        )\n",
    "%matplotlib inline"
   ]
  },
  {
   "cell_type": "markdown",
   "metadata": {},
   "source": [
    "# Espectro del suelo\n",
    "El espectro del dosel o de la supeficie vegetal no sólo depende del espectro y las propiedades de las hojas, sino que también de la propia estructura del dosel así como del suelo. En particular en doseles abiertos o poco densos, como el las primeras fases fenológicas el comportamiento espectral del suelo puede influir de manera muy importante en la señal espectral que capten los sensores de teledetección.\n",
    "\n",
    "El espectro del suelo depende de varios factores, como son su composición mineralógica, su textura y densidad así como su humedad superficial. \n",
    "\n",
    "Ejectuta la siguiente celda y mira los distintas características espectrales de distintos tipos de suelo. En general observa lo diferente que puede ser un espectro de suelo en comparación con el de una hoja. Esto es clave a la hora de clasificar tipos de coberturas mediante teledetección así como cuantificar el vigor/densidad vegetal del cultivo."
   ]
  },
  {
   "cell_type": "code",
   "execution_count": 3,
   "metadata": {},
   "outputs": [
    {
     "data": {
      "application/vnd.jupyter.widget-view+json": {
       "model_id": "4513f8dc0f7f425396390a71e98edeb1",
       "version_major": 2,
       "version_minor": 0
      },
      "text/plain": [
       "interactive(children=(Dropdown(description='Soil Type', options=('alfisol.fragiboralf.coarse.86P1994', 'alfiso…"
      ]
     },
     "metadata": {},
     "output_type": "display_data"
    }
   ],
   "source": [
    "interact(update_soil_spectrum, \n",
    "         soil_name=Dropdown(options=SOIL_TYPES, value=SOIL_TYPES[0], description='Soil Type'))\n",
    "%matplotlib inline"
   ]
  },
  {
   "cell_type": "markdown",
   "metadata": {},
   "source": [
    "# Espectro del dosel\n",
    "Finalmente,integrando la firma espectral de una hoja y del suelo subyacente, podemos obtener el espectro de un dosel vegetal. \n",
    "\n",
    "El espectro de la superficie vegetal además depende de la estructura del dosel, principalmente de la cantidad de hojas por unidad de superficie (definido aquí como el ïndice de Área Foliar) y de cómo estas hojas se orientan con respecto a la vertical. Además, dado que se produce una interacción de la luz incidente y reflejada entre el volumen de hojas y el suelo, la posición del sol y del sensor influyen en la señal espectral que obtengamos.\n",
    "\n",
    "Para esta parte cobinaremos el modelo de transferencia ProspectD para simular el espectro de una hoja con otro modelo de trasnferencia a nivel de dosel (4SAIL). Este último modelo considera la superficie vegetal como una capa horizontal y verticalmente homogéna, por lo que se recomienda cautela en su aplicación en doseles arbóreos heterogéneos.\n",
    "\n",
    "Ejecuta la siguente celda y mira cómo los espectros de hoja y suelo se integran para obtener un espectro de la superficie vegetal."
   ]
  },
  {
   "cell_type": "code",
   "execution_count": 4,
   "metadata": {},
   "outputs": [
    {
     "data": {
      "application/vnd.jupyter.widget-view+json": {
       "model_id": "9abcf8891bd64d37bb78e28c24e0fc1b",
       "version_major": 2,
       "version_minor": 0
      },
      "text/plain": [
       "interactive(children=(FloatSlider(value=1.5, description='N:', max=4.0, min=1.0), FloatSlider(value=40.0, desc…"
      ]
     },
     "metadata": {},
     "output_type": "display_data"
    }
   ],
   "source": [
    "interact(update_prosail_spectrum,\n",
    "         N_leaf=FloatSlider(value=1.5, min=1, max=4, step=0.1, description='N:'),\n",
    "         Cab=FloatSlider(value=40, min=0, max=110, step=1, description='Cab ($\\mu$g/cm²):'),\n",
    "         Car=FloatSlider(value=10, min=0, max=40, step=1, description='Car ($\\mu$g/cm²):'),\n",
    "         Ant=FloatSlider(value=1, min=0, max=40, step=1, description='Ant ($\\mu$g/cm²):'),\n",
    "         Cbrown=FloatSlider(value=0, min=0, max=3, step=0.1, description='Cbrown (-):'),\n",
    "         Cw=FloatSlider(value=0.0053, min=0, max=0.05, step=0.001, description='Cw (g/cm²):'),\n",
    "         Cm=FloatSlider(value=0.0114, min=0.001, max=0.04, step=0.001, description='Cm (g/cm²):'),\n",
    "         lai=FloatSlider(value=1., min=0, max=10, step=0.5, description='LAI (m²/m²):'),\n",
    "         hotspot=FloatSlider(value=0.01, min=0, max=1, step=0.01, description='hotspot (-):'),\n",
    "         leaf_angle=FloatSlider(value=57., min=0, max=90, step=1, description='Leaf Angle (deg.):'),\n",
    "         sza=FloatSlider(value=35., min=0, max=89, step=1, description='SZA (deg.):'),\n",
    "         vza=FloatSlider(value=0, min=0, max=89, step=1, description='VZA (deg.):'),\n",
    "         psi=FloatSlider(value=0, min=0, max=359, step=1, description='PSI (deg.):'),\n",
    "         skyl=FloatSlider(value=0.1, min=0, max=1, step=0.05, description='skyl (-):'),\n",
    "         soil_name=Dropdown(options=SOIL_TYPES, value=SOIL_TYPES[0], description='Soil Type'))\n",
    "%matplotlib inline"
   ]
  },
  {
   "cell_type": "markdown",
   "metadata": {},
   "source": [
    "# Sensibilidad de los parámetros\n",
    "En esta tarea podrás ver el comportamiento espectral de la vegetación según varían los parámetros fisico-químicos de la vegetación así como su sensibilidad a las condiciones de observación e iluminación.\n",
    "\n",
    "Para ello vamos a realizar un análisis de sensibilidad variando un sólo parámetro a la vez, mientras que el resto de los parámetros permanecerán constantes. Selecciona qué parámetro quieres analizar y el rango de valores máximo y mínimo que quieras que tenga. A continuación puedes variar los valores individuales para el resto de los parámetros. Finalmente presiona `Get Spectra` para generar un gráfico mostrando cómo varía el espectro con respecto al parámetro analizado. "
   ]
  },
  {
   "cell_type": "code",
   "execution_count": 5,
   "metadata": {
    "scrolled": false
   },
   "outputs": [
    {
     "data": {
      "application/vnd.jupyter.widget-view+json": {
       "model_id": "18ac25eedd844996bae9d2b1ae142e5d",
       "version_major": 2,
       "version_minor": 0
      },
      "text/plain": [
       "VBox(children=(HTML(value='Parameter to evaluate sensitivity'), Dropdown(index=7, options=('N_leaf', 'Cab', 'C…"
      ]
     },
     "metadata": {},
     "output_type": "display_data"
    },
    {
     "data": {
      "application/vnd.jupyter.widget-view+json": {
       "model_id": "089c5b54d76745b68270af4ec76092ce",
       "version_major": 2,
       "version_minor": 0
      },
      "text/plain": [
       "VBox(children=(HTML(value='Leaf Bio-Chemical properties'), FloatSlider(value=1.601, description='Structural Pa…"
      ]
     },
     "metadata": {},
     "output_type": "display_data"
    },
    {
     "data": {
      "application/vnd.jupyter.widget-view+json": {
       "model_id": "767801565ca241019713589f81c0f32f",
       "version_major": 2,
       "version_minor": 0
      },
      "text/plain": [
       "VBox(children=(HTML(value='Canopy Structure'), FloatSlider(value=2.0, description='Leaf Area Index', disabled=…"
      ]
     },
     "metadata": {},
     "output_type": "display_data"
    },
    {
     "data": {
      "application/vnd.jupyter.widget-view+json": {
       "model_id": "19df4f07d13c41278d221ef67815dbbf",
       "version_major": 2,
       "version_minor": 0
      },
      "text/plain": [
       "Dropdown(description='Soil Type', layout=Layout(width='50%'), options=('alfisol.fragiboralf.coarse.86P1994', '…"
      ]
     },
     "metadata": {},
     "output_type": "display_data"
    },
    {
     "data": {
      "application/vnd.jupyter.widget-view+json": {
       "model_id": "43202af51f514fec950bd356d50d09aa",
       "version_major": 2,
       "version_minor": 0
      },
      "text/plain": [
       "VBox(children=(HTML(value='Illumination and Observation Geometry'), FloatSlider(value=35.0, description='Sun Z…"
      ]
     },
     "metadata": {},
     "output_type": "display_data"
    },
    {
     "data": {
      "application/vnd.jupyter.widget-view+json": {
       "model_id": "b1b2eacfda544a64b84de6fe36dbe71f",
       "version_major": 2,
       "version_minor": 0
      },
      "text/plain": [
       "Button(description='Get Spectra', style=ButtonStyle())"
      ]
     },
     "metadata": {},
     "output_type": "display_data"
    },
    {
     "name": "stdout",
     "output_type": "stream",
     "text": [
      "Using matplotlib backend: Qt5Agg\n"
     ]
    }
   ],
   "source": [
    "one_at_a_time_sensitivity = ProSailSensitivity()\n",
    "one_at_a_time_sensitivity.gui()\n",
    "%matplotlib auto"
   ]
  },
  {
   "cell_type": "code",
   "execution_count": null,
   "metadata": {
    "scrolled": true
   },
   "outputs": [],
   "source": []
  }
 ],
 "metadata": {
  "kernelspec": {
   "display_name": "Python 3 (ipykernel)",
   "language": "python",
   "name": "python3"
  },
  "language_info": {
   "codemirror_mode": {
    "name": "ipython",
    "version": 3
   },
   "file_extension": ".py",
   "mimetype": "text/x-python",
   "name": "python",
   "nbconvert_exporter": "python",
   "pygments_lexer": "ipython3",
   "version": "3.7.11"
  }
 },
 "nbformat": 4,
 "nbformat_minor": 1
}
