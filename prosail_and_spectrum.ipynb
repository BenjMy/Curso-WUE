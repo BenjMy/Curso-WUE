{
 "cells": [
  {
   "cell_type": "markdown",
   "metadata": {},
   "source": [
    "# Resumen\n",
    "Este cuaderno digital interactivo tiene como objetivo demostrar las relaciones entre las propiedades fisico-químicas de la vegetación y el espectro solar.\n",
    "\n",
    "Para ello haremos uso de modelos de simulación, en particular de modelos de transferencia radiativa tanto a nivel de hoja individual como a nivel de dosel vegetal."
   ]
  },
  {
   "cell_type": "markdown",
   "metadata": {},
   "source": [
    "# Instrucciones\n",
    "Lee con detenimiento todo el texto, y sigue sus instrucciones.\n",
    "\n",
    "Una vez leida cada sección de texto ejecuta la celda de código siguiente (marcada como `In []`) presionando el icono de `Run`/`Ejecutar` o presionando en el teclado ALT + ENTER. Aparecerá una interfaz gráfica con la que poder realizar las tareas asignadas.\n",
    "\n",
    "Como ejemplo ejectuta la siguiente celda para importar todas  las librerías necesarias para el correcto funcionamiento del cuaderno. Una vez ejecutada debería aparecer un mensaje de agradecimiento."
   ]
  },
  {
   "cell_type": "code",
   "execution_count": null,
   "metadata": {},
   "outputs": [],
   "source": [
    "%matplotlib inline\n",
    "from ipywidgets import interact, interactive, fixed\n",
    "from IPython.display import display\n",
    "from functions import prosail_and_spectra as fn"
   ]
  },
  {
   "cell_type": "markdown",
   "metadata": {},
   "source": [
    "# Espectro de una hoja\n",
    "Las propiedades espectrales de una hoja (tanto su transmisividad, su reflectividad y su absortividad) dependen de su concentración de pigmentos, de su contenido de agua, su peso específico y la estructura interna de sus tejidos. \n",
    "\n",
    "Vamos a usar el modelo ProspectD, el cual es una simplificación de la realidad en la que simula el espectro mediante la concentración de clorofilas (`Cab`), carotenoides (`Car`), antocianinos (`Ant`), así como el peso de agua y por unidad de supeficie (`Cw`) y el peso del resto de la materia seca (`Cm`) que engloba las celulosas, ligninas (responsables principales de la biomasa foliar) y otros componentes proteicos. También incluye un parámetro semi-empírico que representa otros pigmentos responsables del color de las hojas senescentes y enfermas. Además con el fin de simular hojas con distintas estructuras celulares incluye un último parámetro (`N_leaf`) que emula las distitas capas y tejidos celulares de la hoja.\n",
    "\n",
    "Ejecuta la siguiente célula y verás un espectro típico de la hoja. El gráfico muestra tanto la reflectividad (en el eje y) como la transmisividad (en el eje secundario y, con valores invertidos) y la absortividad (como el espacio entre las dos curvas de reflectividad y transmisividad) $\\rho + \\tau + \\alpha = 1$.\n",
    "\n",
    "Presta atención a cómo y en qué regiones cambia el espectro según el parámetro que modifiques.\n",
    "* Haz variar la clorofila. \n",
    "* Haz variar el contenido de agua\n",
    "* Haz variar la materia seca\n",
    "* Haz variar los pigmentos marrones desde un valor de 0 (hoja sana) a valores mayores (hoja enferma o seca)"
   ]
  },
  {
   "cell_type": "code",
   "execution_count": null,
   "metadata": {},
   "outputs": [],
   "source": [
    "w_rho_leaf = interactive(fn.update_prospect_spectrum, N_leaf=fn.w_nleaf, Cab=fn.w_cab, \n",
    "                         Car=fn.w_car, Ant=fn.w_ant, Cbrown=fn.w_cbrown, Cw=fn.w_cw, Cm=fn.w_cm)\n",
    "display(w_rho_leaf)"
   ]
  },
  {
   "cell_type": "markdown",
   "metadata": {},
   "source": [
    "# Espectro del suelo\n",
    "El espectro del dosel o de la supeficie vegetal no sólo depende del espectro y las propiedades de las hojas, sino que también de la propia estructura del dosel así como del suelo. En particular en doseles abiertos o poco densos, como el las primeras fases fenológicas el comportamiento espectral del suelo puede influir de manera muy importante en la señal espectral que capten los sensores de teledetección.\n",
    "\n",
    "El espectro del suelo depende de varios factores, como son su composición mineralógica, su textura y densidad así como su humedad superficial. \n",
    "\n",
    "Ejectuta la siguiente celda y mira los distintas características espectrales de distintos tipos de suelo. En general observa lo diferente que puede ser un espectro de suelo en comparación con el de una hoja. Esto es clave a la hora de clasificar tipos de coberturas mediante teledetección así como cuantificar el vigor/densidad vegetal del cultivo."
   ]
  },
  {
   "cell_type": "code",
   "execution_count": null,
   "metadata": {},
   "outputs": [],
   "source": [
    "w_rho_soil = interactive(fn.update_soil_spectrum, soil_name=fn.w_soil)\n",
    "display(w_rho_soil)"
   ]
  },
  {
   "cell_type": "markdown",
   "metadata": {},
   "source": [
    "# Espectro del dosel\n",
    "Finalmente,integrando la firma espectral de una hoja y del suelo subyacente, podemos obtener el espectro de un dosel vegetal. \n",
    "\n",
    "El espectro de la superficie vegetal además depende de la estructura del dosel, principalmente de la cantidad de hojas por unidad de superficie (definido aquí como el ïndice de Área Foliar) y de cómo estas hojas se orientan con respecto a la vertical. Además, dado que se produce una interacción de la luz incidente y reflejada entre el volumen de hojas y el suelo, la posición del sol y del sensor influyen en la señal espectral que obtengamos.\n",
    "\n",
    "Para esta parte cobinaremos el modelo de transferencia ProspectD para simular el espectro de una hoja con otro modelo de trasnferencia a nivel de dosel (4SAIL). Este último modelo considera la superficie vegetal como una capa horizontal y verticalmente homogéna, por lo que se recomienda cautela en su aplicación en doseles arbóreos heterogéneos.\n",
    "\n",
    "Ejecuta la siguente celda y mira cómo los espectros de hoja y suelo se integran para obtener un espectro de la superficie vegetal."
   ]
  },
  {
   "cell_type": "code",
   "execution_count": null,
   "metadata": {},
   "outputs": [],
   "source": [
    "w_rho_canopy = interactive(fn.update_4sail_spectrum,\n",
    "                           lai=fn.w_lai, hotspot=fn.w_hotspot, leaf_angle=fn.w_leaf_angle, \n",
    "                           sza=fn.w_sza, vza=fn.w_vza, psi=fn.w_psi, skyl=fn.w_skyl, \n",
    "                           leaf_spectrum=fixed(w_rho_leaf), soil_spectrum=fixed(w_rho_soil))\n",
    "display(w_rho_canopy)"
   ]
  },
  {
   "cell_type": "markdown",
   "metadata": {},
   "source": [
    "# Sensibilidad de los parámetros\n",
    "En esta tarea podrás ver el comportamiento espectral de la vegetación según varían los parámetros fisico-químicos de la vegetación así como su sensibilidad a las condiciones de observación e iluminación.\n",
    "\n",
    "Para ello vamos a realizar un análisis de sensibilidad variando un sólo parámetro a la vez, mientras que el resto de los parámetros permanecerán constantes. Selecciona qué parámetro quieres analizar y el rango de valores máximo y mínimo que quieras que tenga. A continuación puedes variar los valores individuales para el resto de los parámetros. Finalmente presiona `Generar Espectros` para generar un gráfico mostrando cómo varía el espectro con respecto al parámetro analizado. "
   ]
  },
  {
   "cell_type": "code",
   "execution_count": null,
   "metadata": {},
   "outputs": [],
   "source": [
    "w_sensitivity = interactive(fn.prosail_sensitivity,\n",
    "                            N_leaf=fn.w_nleaf, Cab=fn.w_cab, Car=fn.w_car, Ant=fn.w_ant, Cbrown=fn.w_cbrown, \n",
    "                            Cw=fn.w_cw, Cm=fn.w_cm, lai=fn.w_lai, hotspot=fn.w_hotspot, leaf_angle=fn.w_leaf_angle, \n",
    "                            sza=fn.w_sza, vza=fn.w_vza, psi=fn.w_psi, skyl=fn.w_skyl, \n",
    "                            soil_name=fn.w_soil, var=fn.w_param, value_range=fn.w_range)\n",
    "display(w_sensitivity)"
   ]
  },
  {
   "cell_type": "markdown",
   "metadata": {},
   "source": [
    "# La señal de un sensor\n",
    "Hasta ahora hemos visto el comportamiento espectral detallado de la vegetación. Sin embargo los sensores a bordo de los satélites, aeroplanos y drones no miden todo el espectro en continuo, si no que muestrean tal espectro en torno a unas bandas específicas, estratégicamente seleccionadas con el fin de intentar capturar los aspectos biofísicos más relvantes.\n",
    "\n",
    "Se denomina función de respuesta espectral a la forma en que un sensor específico integra el espectro con el fin de proporcinar la información en sus distintas bandas. Cada sensor, con cada una de sus bandas, tiene una función de respuesta espectral propia.\n",
    "\n",
    "En esta tarea veremos las respuestas espectrales los sensores que utilizaremos más comunmente, Landsat, Sentinel-2 y Sentinel-3. También veremos el comportamiento espectral de una cámara típica que se usa con drones.\n",
    "\n",
    "Partimos de las simulaciones generadas anteriormente. Selecciona el sensor que quieras simular para ver como cada uno de los sensores \"verían\" esos mismos espectros."
   ]
  },
  {
   "cell_type": "code",
   "execution_count": null,
   "metadata": {},
   "outputs": [],
   "source": [
    "w_rho_sensor = interactive(fn.sensor_sensitivity,\n",
    "                           sensor=fn.w_sensor, spectra=fixed(w_sensitivity))\n",
    "display(w_rho_sensor)"
   ]
  },
  {
   "cell_type": "markdown",
   "metadata": {},
   "source": [
    "# Derivación de parámetros de la vegetación\n",
    "Hasta ahora hemos visto cómo el espectro de la superficie varía con respecto a los distintos parámetros biofísicos.\n",
    "\n",
    "Sin embargo, nuestro objetivo final es el contrario, es decir, a partir de un espectro, o de unas determinadas bandas espectrales estimar una o varias variables biofísicas que nos son de interés. En particular para el objetivo del cálculo de la evapotranspiración y la eficiencia en el uso en el agua, nos puede interesar estimar el índice de área foliar y/o la fracción de radiacón PAR absorbida, así como las clorofilas u otros pigmentos.\n",
    "\n",
    "Una de los métodos típicos es desarrollar relaciones empíricas entre las bandas (o entre índices de vegetación) y datos muestreados en el campo. Esto puede darnos la respuesta más fiable para nuestra parcela de estudio, pero como has podido ver anteriormente la señal espectral depende de otros muchos factores, que pueden provocar que esa relación calibrada con unos cuantos muestreos locales no sea extrapolable o aplicable a otros cultivos o regiones.\n",
    "\n",
    "Otra alternativa es desarrollar bases de datos sintéticas a partir de simulaciones. Es lo que vamos a realizar en esta tarea."
   ]
  },
  {
   "cell_type": "code",
   "execution_count": null,
   "metadata": {},
   "outputs": [],
   "source": [
    "w_rho_sensor = interactive(fn.build_random_simulations, {\"manual\": True, \"manual_name\": \"Generar simulaciones\"},\n",
    "                           n_sim=fn.w_sims, n_leaf_range=fn.w_range_params[\"N_leaf\"],\n",
    "                           cab_range=fn.w_range_params[\"Cab\"], car_range=fn.w_range_car,\n",
    "                           ant_range=fn.w_range_params[\"Car\"], cbrown_range=fn.w_range_params[\"Cbrown\"], \n",
    "                           cw_range=fn.w_range_params[\"Cw\"], cm_range=fn.w_range_params[\"Cm\"],\n",
    "                           lai_range=fn.w_range_params[\"LAI\"], hotspot_range=fn.w_range_params[\"hotspot\"], \n",
    "                           leaf_angle_range=fn.w_range_params[\"leaf_angle\"], sza_range=fn.w_range_params[\"SZA\"], \n",
    "                           vza_range=fn.w_range_params[\"VZA\"], psi_range=fn.w_range_params[\"PSI\"], \n",
    "                           skyl_range=fn.w_range_params[\"skyl\"], soil_names=fn.w_soils, sensor=fn.w_sensor)\n",
    "display(w_rho_sensor)"
   ]
  },
  {
   "cell_type": "code",
   "execution_count": null,
   "metadata": {},
   "outputs": [],
   "source": []
  }
 ],
 "metadata": {
  "kernelspec": {
   "display_name": "Python 3 (ipykernel)",
   "language": "python",
   "name": "python3"
  },
  "language_info": {
   "codemirror_mode": {
    "name": "ipython",
    "version": 3
   },
   "file_extension": ".py",
   "mimetype": "text/x-python",
   "name": "python",
   "nbconvert_exporter": "python",
   "pygments_lexer": "ipython3",
   "version": "3.7.11"
  }
 },
 "nbformat": 4,
 "nbformat_minor": 1
}
